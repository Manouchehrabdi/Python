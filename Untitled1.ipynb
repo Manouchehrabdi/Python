{
 "cells": [
  {
   "cell_type": "code",
   "execution_count": 3,
   "id": "2833917d-df05-4684-9ae2-d8121a860467",
   "metadata": {},
   "outputs": [],
   "source": [
    "pr={\"Apple\": 100, \"banana\": 200, \"portagal\": 50}"
   ]
  },
  {
   "cell_type": "code",
   "execution_count": 4,
   "id": "00eee431-bce4-480e-b47f-7a8108fd1027",
   "metadata": {},
   "outputs": [
    {
     "data": {
      "text/plain": [
       "100"
      ]
     },
     "execution_count": 4,
     "metadata": {},
     "output_type": "execute_result"
    }
   ],
   "source": [
    "pr[\"Apple\"]"
   ]
  },
  {
   "cell_type": "code",
   "execution_count": 5,
   "id": "c8fe5cb3-a201-4b01-af94-8cea209d1f8b",
   "metadata": {},
   "outputs": [],
   "source": [
    "Student = {\n",
    "    \"Manouchehr\" :{\n",
    "        \"Data Minig\": 20,\n",
    "        \"Zaban takhsosi\": 18,\n",
    "        \"paper\":19\n",
    "    },\n",
    "    \"Alisan\" :{\n",
    "        \"Data Minig\": 15,\n",
    "        \"Zaban takhsosi\": 20,\n",
    "        \"paper\":12\n",
    "}}"
   ]
  },
  {
   "cell_type": "code",
   "execution_count": 21,
   "id": "09e52c12-a55d-4745-8ebb-edf9623d420a",
   "metadata": {},
   "outputs": [
    {
     "data": {
      "text/plain": [
       "{'Data Minig': 15, 'Zaban takhsosi': 20, 'paper': 12}"
      ]
     },
     "execution_count": 21,
     "metadata": {},
     "output_type": "execute_result"
    }
   ],
   "source": [
    "Student[\"Alisan\"]"
   ]
  },
  {
   "cell_type": "code",
   "execution_count": 22,
   "id": "bd609834-cc54-45ed-8eae-bf7159ffe2fa",
   "metadata": {},
   "outputs": [
    {
     "data": {
      "text/plain": [
       "dict_keys(['Manouchehr', 'Alisan'])"
      ]
     },
     "execution_count": 22,
     "metadata": {},
     "output_type": "execute_result"
    }
   ],
   "source": [
    "Student.keys()"
   ]
  },
  {
   "cell_type": "code",
   "execution_count": 23,
   "id": "4a1c610b-b6fd-4294-9c09-0655c84ee78a",
   "metadata": {},
   "outputs": [
    {
     "data": {
      "text/plain": [
       "dict_items([('Manouchehr', {'Data Minig': 20, 'Zaban takhsosi': 18, 'paper': 19}), ('Alisan', {'Data Minig': 15, 'Zaban takhsosi': 20, 'paper': 12})])"
      ]
     },
     "execution_count": 23,
     "metadata": {},
     "output_type": "execute_result"
    }
   ],
   "source": [
    "Student.items()"
   ]
  },
  {
   "cell_type": "code",
   "execution_count": 24,
   "id": "ce983673-9e16-4247-95a6-ec0dc94b7c2b",
   "metadata": {},
   "outputs": [
    {
     "ename": "NameError",
     "evalue": "name 'squares' is not defined",
     "output_type": "error",
     "traceback": [
      "\u001b[31m---------------------------------------------------------------------------\u001b[39m",
      "\u001b[31mNameError\u001b[39m                                 Traceback (most recent call last)",
      "\u001b[36mCell\u001b[39m\u001b[36m \u001b[39m\u001b[32mIn[24]\u001b[39m\u001b[32m, line 1\u001b[39m\n\u001b[32m----> \u001b[39m\u001b[32m1\u001b[39m \u001b[43msquares\u001b[49m[\u001b[32m0\u001b[39m]  \u001b[38;5;66;03m# indexing returns the item\u001b[39;00m\n\u001b[32m      3\u001b[39m squares[-\u001b[32m1\u001b[39m]\n\u001b[32m      5\u001b[39m squares[-\u001b[32m3\u001b[39m:]  \u001b[38;5;66;03m# slicing returns a new list\u001b[39;00m\n",
      "\u001b[31mNameError\u001b[39m: name 'squares' is not defined"
     ]
    }
   ],
   "source": [
    "squares[0]  # indexing returns the item\n",
    "\n",
    "squares[-1]\n",
    "\n",
    "squares[-3:]  # slicing returns a new list"
   ]
  },
  {
   "cell_type": "code",
   "execution_count": null,
   "id": "2668ace9-7d93-4ab9-a304-e8a42e87f544",
   "metadata": {},
   "outputs": [],
   "source": [
    "None"
   ]
  }
 ],
 "metadata": {
  "kernelspec": {
   "display_name": "Python 3 (ipykernel)",
   "language": "python",
   "name": "python3"
  },
  "language_info": {
   "codemirror_mode": {
    "name": "ipython",
    "version": 3
   },
   "file_extension": ".py",
   "mimetype": "text/x-python",
   "name": "python",
   "nbconvert_exporter": "python",
   "pygments_lexer": "ipython3",
   "version": "3.12.1"
  }
 },
 "nbformat": 4,
 "nbformat_minor": 5
}
