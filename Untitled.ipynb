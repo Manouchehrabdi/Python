{
 "cells": [
  {
   "cell_type": "code",
   "execution_count": 1,
   "id": "62c2969b-34a6-4135-ab11-52f0ffc51630",
   "metadata": {},
   "outputs": [
    {
     "name": "stdout",
     "output_type": "stream",
     "text": [
      "Manouchehr Abdi\n"
     ]
    }
   ],
   "source": [
    "print(\"Manouchehr Abdi\")"
   ]
  },
  {
   "cell_type": "code",
   "execution_count": 2,
   "id": "f6fde02b-6d4b-4fb6-9b89-3a1cbb720a2d",
   "metadata": {},
   "outputs": [
    {
     "data": {
      "text/plain": [
       "22"
      ]
     },
     "execution_count": 2,
     "metadata": {},
     "output_type": "execute_result"
    }
   ],
   "source": [
    "4+18"
   ]
  },
  {
   "cell_type": "code",
   "execution_count": 3,
   "id": "838802a6-653a-455b-b864-42874c22295a",
   "metadata": {},
   "outputs": [
    {
     "data": {
      "text/plain": [
       "4.5"
      ]
     },
     "execution_count": 3,
     "metadata": {},
     "output_type": "execute_result"
    }
   ],
   "source": [
    "18/4"
   ]
  },
  {
   "cell_type": "code",
   "execution_count": 4,
   "id": "117f9822-2256-45a6-b544-591f77c71893",
   "metadata": {},
   "outputs": [
    {
     "ename": "ZeroDivisionError",
     "evalue": "division by zero",
     "output_type": "error",
     "traceback": [
      "\u001b[31m---------------------------------------------------------------------------\u001b[39m",
      "\u001b[31mZeroDivisionError\u001b[39m                         Traceback (most recent call last)",
      "\u001b[36mCell\u001b[39m\u001b[36m \u001b[39m\u001b[32mIn[4]\u001b[39m\u001b[32m, line 1\u001b[39m\n\u001b[32m----> \u001b[39m\u001b[32m1\u001b[39m \u001b[32;43m5\u001b[39;49m\u001b[43m \u001b[49m\u001b[43m/\u001b[49m\u001b[32;43m0\u001b[39;49m \n",
      "\u001b[31mZeroDivisionError\u001b[39m: division by zero"
     ]
    }
   ],
   "source": [
    "5 /0 "
   ]
  },
  {
   "cell_type": "code",
   "execution_count": 5,
   "id": "a7dd844c-c1a1-4188-abde-0a96f143eb8f",
   "metadata": {},
   "outputs": [
    {
     "data": {
      "text/plain": [
       "26"
      ]
     },
     "execution_count": 5,
     "metadata": {},
     "output_type": "execute_result"
    }
   ],
   "source": [
    "2+4*6"
   ]
  },
  {
   "cell_type": "code",
   "execution_count": 6,
   "id": "ca759a60-c77c-4143-bc87-5140cb545fff",
   "metadata": {},
   "outputs": [
    {
     "data": {
      "text/plain": [
       "'manouchehr abdi'"
      ]
     },
     "execution_count": 6,
     "metadata": {},
     "output_type": "execute_result"
    }
   ],
   "source": [
    "\"manouchehr abdi\""
   ]
  },
  {
   "cell_type": "code",
   "execution_count": null,
   "id": "ba813bfa-d5d2-459f-b24a-e5aa2aded682",
   "metadata": {},
   "outputs": [
    {
     "ename": "SyntaxError",
     "evalue": "unterminated string literal (detected at line 1) (2584068642.py, line 1)",
     "output_type": "error",
     "traceback": [
      "  \u001b[36mCell\u001b[39m\u001b[36m \u001b[39m\u001b[32mIn[7]\u001b[39m\u001b[32m, line 1\u001b[39m\n\u001b[31m    \u001b[39m\u001b[31m\"Manouchehr abdi\"Alisan\"\u001b[39m\n                           ^\n\u001b[31mSyntaxError\u001b[39m\u001b[31m:\u001b[39m unterminated string literal (detected at line 1)\n"
     ]
    }
   ],
   "source": [
    "\"Manouchehr abdi\"Alisan\""
   ]
  },
  {
   "cell_type": "code",
   "execution_count": 8,
   "id": "c255fe11-ba2e-4af5-a5fc-a4047ed6862a",
   "metadata": {},
   "outputs": [],
   "source": [
    "message = \"Manouchehr abdi\""
   ]
  },
  {
   "cell_type": "code",
   "execution_count": 9,
   "id": "fd63626e-797f-4e86-bd03-83aebfd28977",
   "metadata": {},
   "outputs": [
    {
     "name": "stdout",
     "output_type": "stream",
     "text": [
      "Manouchehr abdi\n"
     ]
    }
   ],
   "source": [
    "print(message)"
   ]
  },
  {
   "cell_type": "code",
   "execution_count": 10,
   "id": "d4bde612-37bf-4fda-8401-651bd68d8e68",
   "metadata": {},
   "outputs": [
    {
     "data": {
      "text/plain": [
       "'idba rhehcuonaM'"
      ]
     },
     "execution_count": 10,
     "metadata": {},
     "output_type": "execute_result"
    }
   ],
   "source": [
    " message[::-1]"
   ]
  },
  {
   "cell_type": "code",
   "execution_count": 11,
   "id": "cec9d4e8-8568-48d4-b986-14a40251252f",
   "metadata": {},
   "outputs": [
    {
     "ename": "NameError",
     "evalue": "name 'M' is not defined",
     "output_type": "error",
     "traceback": [
      "\u001b[31m---------------------------------------------------------------------------\u001b[39m",
      "\u001b[31mNameError\u001b[39m                                 Traceback (most recent call last)",
      "\u001b[36mCell\u001b[39m\u001b[36m \u001b[39m\u001b[32mIn[11]\u001b[39m\u001b[32m, line 1\u001b[39m\n\u001b[32m----> \u001b[39m\u001b[32m1\u001b[39m message = \u001b[43mM\u001b[49m + message[\u001b[32m1\u001b[39m:]\n",
      "\u001b[31mNameError\u001b[39m: name 'M' is not defined"
     ]
    }
   ],
   "source": [
    "message = M + message[1:]"
   ]
  },
  {
   "cell_type": "code",
   "execution_count": 12,
   "id": "14038762-815c-4893-bef0-037f49db17aa",
   "metadata": {},
   "outputs": [],
   "source": [
    "message = \"M\" + message[1:]"
   ]
  },
  {
   "cell_type": "code",
   "execution_count": 13,
   "id": "ffd471e4-61d5-4881-a492-64fa153b4ba8",
   "metadata": {},
   "outputs": [
    {
     "data": {
      "text/plain": [
       "'Manouchehr abdi'"
      ]
     },
     "execution_count": 13,
     "metadata": {},
     "output_type": "execute_result"
    }
   ],
   "source": [
    "message"
   ]
  },
  {
   "cell_type": "code",
   "execution_count": 14,
   "id": "0285d83c-cfe9-4d3f-8a3a-9e4de23a5956",
   "metadata": {},
   "outputs": [
    {
     "ename": "NameError",
     "evalue": "name 'manouchehr' is not defined",
     "output_type": "error",
     "traceback": [
      "\u001b[31m---------------------------------------------------------------------------\u001b[39m",
      "\u001b[31mNameError\u001b[39m                                 Traceback (most recent call last)",
      "\u001b[36mCell\u001b[39m\u001b[36m \u001b[39m\u001b[32mIn[14]\u001b[39m\u001b[32m, line 1\u001b[39m\n\u001b[32m----> \u001b[39m\u001b[32m1\u001b[39m name = \u001b[43mmanouchehr\u001b[49m\n",
      "\u001b[31mNameError\u001b[39m: name 'manouchehr' is not defined"
     ]
    }
   ],
   "source": [
    "name = manouchehr"
   ]
  },
  {
   "cell_type": "code",
   "execution_count": 15,
   "id": "42229dd1-f780-4ad9-98fa-afa79be64724",
   "metadata": {},
   "outputs": [],
   "source": [
    "name = \"manouchehr\""
   ]
  },
  {
   "cell_type": "code",
   "execution_count": 16,
   "id": "a1e65a45-2acf-4135-9aea-c76eee405dbe",
   "metadata": {},
   "outputs": [],
   "source": [
    "name = \"M\" + name[1:]"
   ]
  },
  {
   "cell_type": "code",
   "execution_count": 17,
   "id": "32279b03-f32c-48ab-83bd-1cb224e4ea5b",
   "metadata": {},
   "outputs": [
    {
     "data": {
      "text/plain": [
       "'Manouchehr'"
      ]
     },
     "execution_count": 17,
     "metadata": {},
     "output_type": "execute_result"
    }
   ],
   "source": [
    "name"
   ]
  },
  {
   "cell_type": "code",
   "execution_count": null,
   "id": "a2a6ac94-6c04-429a-857d-4e1ba5ea9df8",
   "metadata": {},
   "outputs": [],
   "source": [
    "P "
   ]
  }
 ],
 "metadata": {
  "kernelspec": {
   "display_name": "Python 3 (ipykernel)",
   "language": "python",
   "name": "python3"
  },
  "language_info": {
   "codemirror_mode": {
    "name": "ipython",
    "version": 3
   },
   "file_extension": ".py",
   "mimetype": "text/x-python",
   "name": "python",
   "nbconvert_exporter": "python",
   "pygments_lexer": "ipython3",
   "version": "3.12.1"
  }
 },
 "nbformat": 4,
 "nbformat_minor": 5
}
